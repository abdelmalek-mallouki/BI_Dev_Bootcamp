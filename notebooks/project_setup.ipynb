{
 "cells": [
  {
   "cell_type": "code",
   "execution_count": 1,
   "id": "47b0a871-55c7-45a4-95f2-64d453652c8b",
   "metadata": {},
   "outputs": [
    {
     "name": "stdout",
     "output_type": "stream",
     "text": [
      "BI Dev Bootcamp - Project Setup\n"
     ]
    }
   ],
   "source": [
    "# Test Code - Simple Output\n",
    "print(\"BI Dev Bootcamp - Project Setup\")\n"
   ]
  },
  {
   "cell_type": "code",
   "execution_count": null,
   "id": "d58798dc-b62b-477c-9171-368633ba0e9f",
   "metadata": {},
   "outputs": [],
   "source": []
  }
 ],
 "metadata": {
  "kernelspec": {
   "display_name": "Python 3 (ipykernel)",
   "language": "python",
   "name": "python3"
  },
  "language_info": {
   "codemirror_mode": {
    "name": "ipython",
    "version": 3
   },
   "file_extension": ".py",
   "mimetype": "text/x-python",
   "name": "python",
   "nbconvert_exporter": "python",
   "pygments_lexer": "ipython3",
   "version": "3.10.16"
  }
 },
 "nbformat": 4,
 "nbformat_minor": 5
}
